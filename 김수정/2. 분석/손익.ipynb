{
 "cells": [
  {
   "cell_type": "code",
   "execution_count": 137,
   "metadata": {},
   "outputs": [],
   "source": [
    "import pandas as pd\n",
    "import matplotlib.pyplot as plt"
   ]
  },
  {
   "cell_type": "markdown",
   "metadata": {},
   "source": [
    "# 매출"
   ]
  },
  {
   "cell_type": "code",
   "execution_count": 71,
   "metadata": {},
   "outputs": [],
   "source": [
    "sales_data = pd.read_csv('Onlinesales_info.csv', encoding='cp949')\n",
    "tax_data = pd.read_csv('Tax_info.csv', encoding='cp949')\n",
    "Marketing_data = pd.read_csv('Marketing_info.csv', encoding='cp949')"
   ]
  },
  {
   "cell_type": "code",
   "execution_count": 72,
   "metadata": {},
   "outputs": [
    {
     "data": {
      "text/plain": [
       "0        153.71\n",
       "1        153.71\n",
       "2          2.05\n",
       "3         87.65\n",
       "4         16.50\n",
       "          ...  \n",
       "52919    121.30\n",
       "52920     48.92\n",
       "52921    151.88\n",
       "52922    402.60\n",
       "52923    322.08\n",
       "Name: Total Revenue, Length: 52924, dtype: float64"
      ]
     },
     "execution_count": 72,
     "metadata": {},
     "output_type": "execute_result"
    }
   ],
   "source": [
    "# 각 거래의 총 매출 계산\n",
    "sales_data['Total Revenue'] = sales_data['Quantity'] * sales_data['Average_Amount']\n",
    "sales_data['Total Revenue']"
   ]
  },
  {
   "cell_type": "code",
   "execution_count": 73,
   "metadata": {},
   "outputs": [],
   "source": [
    "# 월별 총 매출 계산\n",
    "sales_data['Transaction_Date'] = pd.to_datetime(sales_data['Transaction_Date'])\n",
    "sales_data['Month'] = sales_data['Transaction_Date'].dt.month\n",
    "monthly_revenue = sales_data.groupby('Month')['Total Revenue'].sum()"
   ]
  },
  {
   "cell_type": "code",
   "execution_count": 74,
   "metadata": {},
   "outputs": [
    {
     "data": {
      "text/plain": [
       "Month\n",
       "1     403624.58\n",
       "2     310819.80\n",
       "3     349608.09\n",
       "4     401618.42\n",
       "5     307763.42\n",
       "6     321081.38\n",
       "7     372638.07\n",
       "8     401210.37\n",
       "9     360548.40\n",
       "10    409681.28\n",
       "11    508942.62\n",
       "12    523258.19\n",
       "Name: Total Revenue, dtype: float64"
      ]
     },
     "execution_count": 74,
     "metadata": {},
     "output_type": "execute_result"
    }
   ],
   "source": [
    "monthly_revenue"
   ]
  },
  {
   "cell_type": "markdown",
   "metadata": {},
   "source": [
    "# 마케팅 비용"
   ]
  },
  {
   "cell_type": "code",
   "execution_count": 75,
   "metadata": {},
   "outputs": [],
   "source": [
    "# Date 열을 datetime 형식으로 변환\n",
    "Marketing_data['Date'] = pd.to_datetime(Marketing_data['Date'])"
   ]
  },
  {
   "cell_type": "code",
   "execution_count": 76,
   "metadata": {},
   "outputs": [
    {
     "data": {
      "text/plain": [
       "0       1\n",
       "1       1\n",
       "2       1\n",
       "3       1\n",
       "4       1\n",
       "       ..\n",
       "360    12\n",
       "361    12\n",
       "362    12\n",
       "363    12\n",
       "364    12\n",
       "Name: Month, Length: 365, dtype: int32"
      ]
     },
     "execution_count": 76,
     "metadata": {},
     "output_type": "execute_result"
    }
   ],
   "source": [
    "# Date 열을 기준으로 월을 추출\n",
    "Marketing_data['Month'] = Marketing_data['Date'].dt.month\n",
    "Marketing_data['Month'] "
   ]
  },
  {
   "cell_type": "code",
   "execution_count": 93,
   "metadata": {},
   "outputs": [
    {
     "name": "stdout",
     "output_type": "stream",
     "text": [
      "       Offline_Cost  Online_Cost\n",
      "Month                           \n",
      "1             96600     58328.95\n",
      "2             81300     55807.92\n",
      "3             73500     48750.09\n",
      "4             96000     61026.83\n",
      "5             65500     52759.64\n",
      "6             80500     53818.14\n",
      "7             67500     52717.85\n",
      "8             85500     57404.15\n",
      "9             83000     52514.54\n",
      "10            93500     57724.65\n",
      "11            93000     68144.96\n",
      "12           122000     76648.75\n"
     ]
    }
   ],
   "source": [
    "# 월을 기준으로 그룹화하여 오프라인 비용과 온라인 비용의 합계를 계산\n",
    "monthly_costs = Marketing_data.groupby('Month')[['Offline_Cost', 'Online_Cost']].sum()\n",
    "print(monthly_costs)"
   ]
  },
  {
   "cell_type": "markdown",
   "metadata": {},
   "source": [
    "# 배송비"
   ]
  },
  {
   "cell_type": "code",
   "execution_count": 82,
   "metadata": {},
   "outputs": [],
   "source": [
    "# Transaction_Date 열을 datetime 형식으로 변환\n",
    "sales_data['Transaction_Date'] = pd.to_datetime(sales_data['Transaction_Date'])"
   ]
  },
  {
   "cell_type": "code",
   "execution_count": 83,
   "metadata": {},
   "outputs": [],
   "source": [
    "# Transaction_Date 열을 기준으로 월을 추출\n",
    "sales_data['Month'] = sales_data['Transaction_Date'].dt.month"
   ]
  },
  {
   "cell_type": "code",
   "execution_count": 92,
   "metadata": {},
   "outputs": [
    {
     "name": "stdout",
     "output_type": "stream",
     "text": [
      "Month\n",
      "1     59242.32\n",
      "2     49216.60\n",
      "3     60799.94\n",
      "4     41481.74\n",
      "5     41396.17\n",
      "6     37513.58\n",
      "7     48723.93\n",
      "8     61099.57\n",
      "9     41005.42\n",
      "10    45961.88\n",
      "11    32311.93\n",
      "12    37881.99\n",
      "Name: Shipping_Fee, dtype: float64\n"
     ]
    }
   ],
   "source": [
    "# 월을 기준으로 그룹화하여 배송료의 합계를 계산\n",
    "monthly_shipping_fee = sales_data.groupby('Month')['Shipping_Fee'].sum()\n",
    "print(monthly_shipping_fee)"
   ]
  },
  {
   "cell_type": "markdown",
   "metadata": {},
   "source": [
    "# 세금"
   ]
  },
  {
   "cell_type": "code",
   "execution_count": 87,
   "metadata": {},
   "outputs": [],
   "source": [
    "# Product_Category를 기준으로 세율을 병합\n",
    "merged_data = pd.merge(sales_data, tax_data, on='Product_Category', how='left')"
   ]
  },
  {
   "cell_type": "code",
   "execution_count": 88,
   "metadata": {},
   "outputs": [],
   "source": [
    "# 각 거래의 세금 계산\n",
    "merged_data['Tax'] = merged_data['Average_Amount'] * merged_data['GST']"
   ]
  },
  {
   "cell_type": "code",
   "execution_count": 91,
   "metadata": {},
   "outputs": [
    {
     "name": "stdout",
     "output_type": "stream",
     "text": [
      "Month\n",
      "1     27912.1817\n",
      "2     20102.9326\n",
      "3     23497.0407\n",
      "4     21168.1951\n",
      "5     21782.8692\n",
      "6     21669.6835\n",
      "7     23437.2754\n",
      "8     24608.5884\n",
      "9     20971.4272\n",
      "10    24083.1889\n",
      "11    28623.3242\n",
      "12    32856.3545\n",
      "Name: Tax, dtype: float64\n"
     ]
    }
   ],
   "source": [
    "# 월별로 그룹화하여 세금의 합계 계산\n",
    "monthly_tax = merged_data.groupby(['Month'])['Tax'].sum()\n",
    "print(monthly_tax)"
   ]
  },
  {
   "cell_type": "markdown",
   "metadata": {},
   "source": [
    "# 손익"
   ]
  },
  {
   "cell_type": "code",
   "execution_count": 127,
   "metadata": {},
   "outputs": [],
   "source": [
    "# 월별 매출 데이터와 다른 변수 병합\n",
    "merged_data = pd.merge(monthly_revenue, monthly_tax, on='Month', how='left')"
   ]
  },
  {
   "cell_type": "code",
   "execution_count": 128,
   "metadata": {},
   "outputs": [],
   "source": [
    "merged_data = pd.merge(merged_data, monthly_shipping_fee, on='Month', how='left')"
   ]
  },
  {
   "cell_type": "code",
   "execution_count": 130,
   "metadata": {},
   "outputs": [],
   "source": [
    "merged_data = pd.merge(merged_data, monthly_costs, on='Month', how='left')"
   ]
  },
  {
   "cell_type": "code",
   "execution_count": 131,
   "metadata": {},
   "outputs": [
    {
     "data": {
      "text/html": [
       "<div>\n",
       "<style scoped>\n",
       "    .dataframe tbody tr th:only-of-type {\n",
       "        vertical-align: middle;\n",
       "    }\n",
       "\n",
       "    .dataframe tbody tr th {\n",
       "        vertical-align: top;\n",
       "    }\n",
       "\n",
       "    .dataframe thead th {\n",
       "        text-align: right;\n",
       "    }\n",
       "</style>\n",
       "<table border=\"1\" class=\"dataframe\">\n",
       "  <thead>\n",
       "    <tr style=\"text-align: right;\">\n",
       "      <th></th>\n",
       "      <th>Total Revenue</th>\n",
       "      <th>Tax</th>\n",
       "      <th>Shipping_Fee</th>\n",
       "      <th>Offline_Cost</th>\n",
       "      <th>Online_Cost</th>\n",
       "    </tr>\n",
       "    <tr>\n",
       "      <th>Month</th>\n",
       "      <th></th>\n",
       "      <th></th>\n",
       "      <th></th>\n",
       "      <th></th>\n",
       "      <th></th>\n",
       "    </tr>\n",
       "  </thead>\n",
       "  <tbody>\n",
       "    <tr>\n",
       "      <th>1</th>\n",
       "      <td>403624.58</td>\n",
       "      <td>27912.1817</td>\n",
       "      <td>59242.32</td>\n",
       "      <td>96600</td>\n",
       "      <td>58328.95</td>\n",
       "    </tr>\n",
       "    <tr>\n",
       "      <th>2</th>\n",
       "      <td>310819.80</td>\n",
       "      <td>20102.9326</td>\n",
       "      <td>49216.60</td>\n",
       "      <td>81300</td>\n",
       "      <td>55807.92</td>\n",
       "    </tr>\n",
       "    <tr>\n",
       "      <th>3</th>\n",
       "      <td>349608.09</td>\n",
       "      <td>23497.0407</td>\n",
       "      <td>60799.94</td>\n",
       "      <td>73500</td>\n",
       "      <td>48750.09</td>\n",
       "    </tr>\n",
       "    <tr>\n",
       "      <th>4</th>\n",
       "      <td>401618.42</td>\n",
       "      <td>21168.1951</td>\n",
       "      <td>41481.74</td>\n",
       "      <td>96000</td>\n",
       "      <td>61026.83</td>\n",
       "    </tr>\n",
       "    <tr>\n",
       "      <th>5</th>\n",
       "      <td>307763.42</td>\n",
       "      <td>21782.8692</td>\n",
       "      <td>41396.17</td>\n",
       "      <td>65500</td>\n",
       "      <td>52759.64</td>\n",
       "    </tr>\n",
       "    <tr>\n",
       "      <th>6</th>\n",
       "      <td>321081.38</td>\n",
       "      <td>21669.6835</td>\n",
       "      <td>37513.58</td>\n",
       "      <td>80500</td>\n",
       "      <td>53818.14</td>\n",
       "    </tr>\n",
       "    <tr>\n",
       "      <th>7</th>\n",
       "      <td>372638.07</td>\n",
       "      <td>23437.2754</td>\n",
       "      <td>48723.93</td>\n",
       "      <td>67500</td>\n",
       "      <td>52717.85</td>\n",
       "    </tr>\n",
       "    <tr>\n",
       "      <th>8</th>\n",
       "      <td>401210.37</td>\n",
       "      <td>24608.5884</td>\n",
       "      <td>61099.57</td>\n",
       "      <td>85500</td>\n",
       "      <td>57404.15</td>\n",
       "    </tr>\n",
       "    <tr>\n",
       "      <th>9</th>\n",
       "      <td>360548.40</td>\n",
       "      <td>20971.4272</td>\n",
       "      <td>41005.42</td>\n",
       "      <td>83000</td>\n",
       "      <td>52514.54</td>\n",
       "    </tr>\n",
       "    <tr>\n",
       "      <th>10</th>\n",
       "      <td>409681.28</td>\n",
       "      <td>24083.1889</td>\n",
       "      <td>45961.88</td>\n",
       "      <td>93500</td>\n",
       "      <td>57724.65</td>\n",
       "    </tr>\n",
       "    <tr>\n",
       "      <th>11</th>\n",
       "      <td>508942.62</td>\n",
       "      <td>28623.3242</td>\n",
       "      <td>32311.93</td>\n",
       "      <td>93000</td>\n",
       "      <td>68144.96</td>\n",
       "    </tr>\n",
       "    <tr>\n",
       "      <th>12</th>\n",
       "      <td>523258.19</td>\n",
       "      <td>32856.3545</td>\n",
       "      <td>37881.99</td>\n",
       "      <td>122000</td>\n",
       "      <td>76648.75</td>\n",
       "    </tr>\n",
       "  </tbody>\n",
       "</table>\n",
       "</div>"
      ],
      "text/plain": [
       "       Total Revenue         Tax  Shipping_Fee  Offline_Cost  Online_Cost\n",
       "Month                                                                    \n",
       "1          403624.58  27912.1817      59242.32         96600     58328.95\n",
       "2          310819.80  20102.9326      49216.60         81300     55807.92\n",
       "3          349608.09  23497.0407      60799.94         73500     48750.09\n",
       "4          401618.42  21168.1951      41481.74         96000     61026.83\n",
       "5          307763.42  21782.8692      41396.17         65500     52759.64\n",
       "6          321081.38  21669.6835      37513.58         80500     53818.14\n",
       "7          372638.07  23437.2754      48723.93         67500     52717.85\n",
       "8          401210.37  24608.5884      61099.57         85500     57404.15\n",
       "9          360548.40  20971.4272      41005.42         83000     52514.54\n",
       "10         409681.28  24083.1889      45961.88         93500     57724.65\n",
       "11         508942.62  28623.3242      32311.93         93000     68144.96\n",
       "12         523258.19  32856.3545      37881.99        122000     76648.75"
      ]
     },
     "execution_count": 131,
     "metadata": {},
     "output_type": "execute_result"
    }
   ],
   "source": [
    "merged_data"
   ]
  },
  {
   "cell_type": "code",
   "execution_count": 136,
   "metadata": {},
   "outputs": [],
   "source": [
    "# Income 계산하여 열 추가\n",
    "merged_data['Income'] = merged_data['Total Revenue'] - merged_data['Tax'] - merged_data['Shipping_Fee'] - merged_data['Offline_Cost'] - merged_data['Online_Cost']"
   ]
  },
  {
   "cell_type": "code",
   "execution_count": 135,
   "metadata": {},
   "outputs": [
    {
     "data": {
      "text/html": [
       "<div>\n",
       "<style scoped>\n",
       "    .dataframe tbody tr th:only-of-type {\n",
       "        vertical-align: middle;\n",
       "    }\n",
       "\n",
       "    .dataframe tbody tr th {\n",
       "        vertical-align: top;\n",
       "    }\n",
       "\n",
       "    .dataframe thead th {\n",
       "        text-align: right;\n",
       "    }\n",
       "</style>\n",
       "<table border=\"1\" class=\"dataframe\">\n",
       "  <thead>\n",
       "    <tr style=\"text-align: right;\">\n",
       "      <th></th>\n",
       "      <th>Total Revenue</th>\n",
       "      <th>Tax</th>\n",
       "      <th>Shipping_Fee</th>\n",
       "      <th>Offline_Cost</th>\n",
       "      <th>Online_Cost</th>\n",
       "      <th>Income</th>\n",
       "    </tr>\n",
       "    <tr>\n",
       "      <th>Month</th>\n",
       "      <th></th>\n",
       "      <th></th>\n",
       "      <th></th>\n",
       "      <th></th>\n",
       "      <th></th>\n",
       "      <th></th>\n",
       "    </tr>\n",
       "  </thead>\n",
       "  <tbody>\n",
       "    <tr>\n",
       "      <th>1</th>\n",
       "      <td>403624.58</td>\n",
       "      <td>27912.1817</td>\n",
       "      <td>59242.32</td>\n",
       "      <td>96600</td>\n",
       "      <td>58328.95</td>\n",
       "      <td>161541.1283</td>\n",
       "    </tr>\n",
       "    <tr>\n",
       "      <th>2</th>\n",
       "      <td>310819.80</td>\n",
       "      <td>20102.9326</td>\n",
       "      <td>49216.60</td>\n",
       "      <td>81300</td>\n",
       "      <td>55807.92</td>\n",
       "      <td>104392.3474</td>\n",
       "    </tr>\n",
       "    <tr>\n",
       "      <th>3</th>\n",
       "      <td>349608.09</td>\n",
       "      <td>23497.0407</td>\n",
       "      <td>60799.94</td>\n",
       "      <td>73500</td>\n",
       "      <td>48750.09</td>\n",
       "      <td>143061.0193</td>\n",
       "    </tr>\n",
       "    <tr>\n",
       "      <th>4</th>\n",
       "      <td>401618.42</td>\n",
       "      <td>21168.1951</td>\n",
       "      <td>41481.74</td>\n",
       "      <td>96000</td>\n",
       "      <td>61026.83</td>\n",
       "      <td>181941.6549</td>\n",
       "    </tr>\n",
       "    <tr>\n",
       "      <th>5</th>\n",
       "      <td>307763.42</td>\n",
       "      <td>21782.8692</td>\n",
       "      <td>41396.17</td>\n",
       "      <td>65500</td>\n",
       "      <td>52759.64</td>\n",
       "      <td>126324.7408</td>\n",
       "    </tr>\n",
       "    <tr>\n",
       "      <th>6</th>\n",
       "      <td>321081.38</td>\n",
       "      <td>21669.6835</td>\n",
       "      <td>37513.58</td>\n",
       "      <td>80500</td>\n",
       "      <td>53818.14</td>\n",
       "      <td>127579.9765</td>\n",
       "    </tr>\n",
       "    <tr>\n",
       "      <th>7</th>\n",
       "      <td>372638.07</td>\n",
       "      <td>23437.2754</td>\n",
       "      <td>48723.93</td>\n",
       "      <td>67500</td>\n",
       "      <td>52717.85</td>\n",
       "      <td>180259.0146</td>\n",
       "    </tr>\n",
       "    <tr>\n",
       "      <th>8</th>\n",
       "      <td>401210.37</td>\n",
       "      <td>24608.5884</td>\n",
       "      <td>61099.57</td>\n",
       "      <td>85500</td>\n",
       "      <td>57404.15</td>\n",
       "      <td>172598.0616</td>\n",
       "    </tr>\n",
       "    <tr>\n",
       "      <th>9</th>\n",
       "      <td>360548.40</td>\n",
       "      <td>20971.4272</td>\n",
       "      <td>41005.42</td>\n",
       "      <td>83000</td>\n",
       "      <td>52514.54</td>\n",
       "      <td>163057.0128</td>\n",
       "    </tr>\n",
       "    <tr>\n",
       "      <th>10</th>\n",
       "      <td>409681.28</td>\n",
       "      <td>24083.1889</td>\n",
       "      <td>45961.88</td>\n",
       "      <td>93500</td>\n",
       "      <td>57724.65</td>\n",
       "      <td>188411.5611</td>\n",
       "    </tr>\n",
       "    <tr>\n",
       "      <th>11</th>\n",
       "      <td>508942.62</td>\n",
       "      <td>28623.3242</td>\n",
       "      <td>32311.93</td>\n",
       "      <td>93000</td>\n",
       "      <td>68144.96</td>\n",
       "      <td>286862.4058</td>\n",
       "    </tr>\n",
       "    <tr>\n",
       "      <th>12</th>\n",
       "      <td>523258.19</td>\n",
       "      <td>32856.3545</td>\n",
       "      <td>37881.99</td>\n",
       "      <td>122000</td>\n",
       "      <td>76648.75</td>\n",
       "      <td>253871.0955</td>\n",
       "    </tr>\n",
       "  </tbody>\n",
       "</table>\n",
       "</div>"
      ],
      "text/plain": [
       "       Total Revenue         Tax  Shipping_Fee  Offline_Cost  Online_Cost  \\\n",
       "Month                                                                       \n",
       "1          403624.58  27912.1817      59242.32         96600     58328.95   \n",
       "2          310819.80  20102.9326      49216.60         81300     55807.92   \n",
       "3          349608.09  23497.0407      60799.94         73500     48750.09   \n",
       "4          401618.42  21168.1951      41481.74         96000     61026.83   \n",
       "5          307763.42  21782.8692      41396.17         65500     52759.64   \n",
       "6          321081.38  21669.6835      37513.58         80500     53818.14   \n",
       "7          372638.07  23437.2754      48723.93         67500     52717.85   \n",
       "8          401210.37  24608.5884      61099.57         85500     57404.15   \n",
       "9          360548.40  20971.4272      41005.42         83000     52514.54   \n",
       "10         409681.28  24083.1889      45961.88         93500     57724.65   \n",
       "11         508942.62  28623.3242      32311.93         93000     68144.96   \n",
       "12         523258.19  32856.3545      37881.99        122000     76648.75   \n",
       "\n",
       "            Income  \n",
       "Month               \n",
       "1      161541.1283  \n",
       "2      104392.3474  \n",
       "3      143061.0193  \n",
       "4      181941.6549  \n",
       "5      126324.7408  \n",
       "6      127579.9765  \n",
       "7      180259.0146  \n",
       "8      172598.0616  \n",
       "9      163057.0128  \n",
       "10     188411.5611  \n",
       "11     286862.4058  \n",
       "12     253871.0955  "
      ]
     },
     "execution_count": 135,
     "metadata": {},
     "output_type": "execute_result"
    }
   ],
   "source": [
    "merged_data"
   ]
  },
  {
   "cell_type": "code",
   "execution_count": 145,
   "metadata": {},
   "outputs": [],
   "source": [
    "data = {\n",
    "    'Month': list(range(1, 13)),\n",
    "    'Income': [161541.1283, 104392.3474, 143061.0193, 181941.6549, 126324.7408, 127579.9765,\n",
    "               180259.0146, 172598.0616, 163057.0128, 188411.5611, 286862.4058, 253871.0955]\n",
    "}\n",
    "\n",
    "Income = pd.DataFrame(data)"
   ]
  },
  {
   "cell_type": "code",
   "execution_count": 154,
   "metadata": {},
   "outputs": [
    {
     "data": {
      "image/png": "[encoded data removed]",
      "text/plain": [
       "<Figure size 1200x700 with 1 Axes>"
      ]
     },
     "metadata": {},
     "output_type": "display_data"
    }
   ],
   "source": [
    "plt.figure(figsize=(12, 7))\n",
    "plt.plot(Income['Month'], Income['Income'], marker='o', color='b', linestyle='-')\n",
    "plt.title('Income Over Months')\n",
    "plt.xlabel('Month')\n",
    "plt.ylabel('Income')\n",
    "plt.xticks(range(1, 13))\n",
    "plt.grid(True)\n",
    "plt.tight_layout()\n",
    "plt.show()"
   ]
  },
  {
   "cell_type": "code",
   "execution_count": null,
   "metadata": {},
   "outputs": [],
   "source": []
  }
 ],
 "metadata": {
  "kernelspec": {
   "display_name": "Python 3",
   "language": "python",
   "name": "python3"
  },
  "language_info": {
   "codemirror_mode": {
    "name": "ipython",
    "version": 3
   },
   "file_extension": ".py",
   "mimetype": "text/x-python",
   "name": "python",
   "nbconvert_exporter": "python",
   "pygments_lexer": "ipython3",
   "version": "3.11.8"
  }
 },
 "nbformat": 4,
 "nbformat_minor": 2
}
